{
 "cells": [
  {
   "cell_type": "code",
   "execution_count": null,
   "id": "15fb1f97-b451-4a6d-a19d-8a52ca9d1ab1",
   "metadata": {},
   "outputs": [],
   "source": [
    "import pandas as pd                                                                      \n",
    "import numpy as np\n",
    "import matplotlib.pyplot as plt\n",
    "import seaborn as sns\n",
    "import plotly.express as px   \n",
    "data = pd.read_csv(\"C:\\c programming\\python\\MinorProject\\DailyDelhiClimateTest.csv\")\n",
    "data = pd.read_csv(\"C:\\c programming\\python\\MinorProject\\DailyDelhiClimateTrain.csv\")\n",
    "print(data.head())"
   ]
  },
  {
   "cell_type": "code",
   "execution_count": null,
   "id": "00795907-787d-4e1a-9cf9-9c6912218b0e",
   "metadata": {},
   "outputs": [],
   "source": [
    "print(data.describe())"
   ]
  },
  {
   "cell_type": "code",
   "execution_count": null,
   "id": "deccc974",
   "metadata": {},
   "outputs": [],
   "source": [
    "print(data.info())"
   ]
  },
  {
   "cell_type": "code",
   "execution_count": null,
   "id": "8cdaece0",
   "metadata": {},
   "outputs": [],
   "source": [
    "figure = px.line(data, x=\"date\", \n",
    "                 y=\"meantemp\", \n",
    "                 title='Mean Temperature in Delhi Over the Years')\n",
    "figure.show()"
   ]
  },
  {
   "cell_type": "code",
   "execution_count": null,
   "id": "3cc6b481",
   "metadata": {},
   "outputs": [],
   "source": [
    "figure = px.line(data, x=\"date\", \n",
    "                 y=\"humidity\", \n",
    "                 title='Humidity in Delhi Over the Years')\n",
    "figure.show()"
   ]
  },
  {
   "cell_type": "code",
   "execution_count": null,
   "id": "0ebdc623",
   "metadata": {},
   "outputs": [],
   "source": [
    "figure = px.line(data, x=\"date\", \n",
    "                 y=\"wind_speed\", \n",
    "                 title='Wind Speed in Delhi Over the Years')\n",
    "figure.show()"
   ]
  },
  {
   "cell_type": "code",
   "execution_count": null,
   "id": "05ed0c6e",
   "metadata": {},
   "outputs": [],
   "source": [
    "figure = px.scatter(data_frame = data, x=\"humidity\",\n",
    "                    y=\"meantemp\", size=\"meantemp\", \n",
    "                    trendline=\"ols\", \n",
    "                    title = \"Relationship Between Temperature and Humidity\")\n",
    "figure.show()"
   ]
  },
  {
   "cell_type": "code",
   "execution_count": null,
   "id": "d686f2b2",
   "metadata": {},
   "outputs": [],
   "source": [
    "data[\"date\"] = pd.to_datetime(data[\"date\"], format = '%Y-%m-%d')\n",
    "data['year'] = data['date'].dt.year\n",
    "data[\"month\"] = data[\"date\"].dt.month\n",
    "print(data.head())"
   ]
  },
  {
   "cell_type": "code",
   "execution_count": null,
   "id": "1d787c01",
   "metadata": {},
   "outputs": [],
   "source": [
    "plt.style.use('fivethirtyeight')\n",
    "plt.figure(figsize=(15, 10))\n",
    "plt.title(\"Temperature Change in Delhi Over the Years\")\n",
    "sns.lineplot(data = data, x='month', y='meantemp', hue='year')\n",
    "plt.show()\n"
   ]
  },
  {
   "cell_type": "code",
   "execution_count": null,
   "id": "3eacf131",
   "metadata": {},
   "outputs": [],
   "source": [
    "forecast_data = data.rename(columns = {\"date\": \"ds\", \n",
    "                                       \"meantemp\": \"y\"})\n",
    "print(forecast_data)"
   ]
  },
  {
   "cell_type": "code",
   "execution_count": null,
   "id": "8f4ffc20",
   "metadata": {},
   "outputs": [],
   "source": [
    "from prophet import Prophet\n",
    "from prophet.plot import plot_plotly, plot_components_plotly\n",
    "model = Prophet()\n",
    "model.fit(forecast_data)\n",
    "forecasts = model.make_future_dataframe(periods=365)\n",
    "predictions = model.predict(forecasts)\n",
    "plot_plotly(model, predictions)"
   ]
  }
 ],
 "metadata": {
  "kernelspec": {
   "display_name": "Python 3 (ipykernel)",
   "language": "python",
   "name": "python3"
  },
  "language_info": {
   "codemirror_mode": {
    "name": "ipython",
    "version": 3
   },
   "file_extension": ".py",
   "mimetype": "text/x-python",
   "name": "python",
   "nbconvert_exporter": "python",
   "pygments_lexer": "ipython3",
   "version": "3.11.5"
  }
 },
 "nbformat": 4,
 "nbformat_minor": 5
}
